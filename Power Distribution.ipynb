{
 "cells": [
  {
   "cell_type": "markdown",
   "metadata": {},
   "source": [
    "# OR Final Project - Code\n",
    "\n",
    "Marjan Boloori - 810195384 \\\\\n",
    "Parmida Valiahdi - 810196586 \\\\\n",
    "Kasra Borazjani - 810196662"
   ]
  },
  {
   "cell_type": "markdown",
   "metadata": {},
   "source": [
    "## Part 0 - Importing the Libraries\n",
    "First, we import the needed libraries:"
   ]
  },
  {
   "cell_type": "code",
   "execution_count": 1,
   "metadata": {
    "id": "Ay0KKxPlOU5N"
   },
   "outputs": [],
   "source": [
    "import numpy as np\n",
    "import pandas as pd\n",
    "import math\n",
    "import pulp as p"
   ]
  },
  {
   "cell_type": "markdown",
   "metadata": {},
   "source": [
    "## Part 1 - Loading the Data:"
   ]
  },
  {
   "cell_type": "markdown",
   "metadata": {},
   "source": [
    "Then, we read the .csv file we have our data inside:"
   ]
  },
  {
   "cell_type": "code",
   "execution_count": 2,
   "metadata": {
    "id": "VUX12YV-One6"
   },
   "outputs": [],
   "source": [
    "data = pd.read_csv('data3.csv', header = None)\n",
    "data_array = np.array(data)"
   ]
  },
  {
   "cell_type": "markdown",
   "metadata": {},
   "source": [
    "We define our \"edges\" as the existing routes between a powerplant and a city:"
   ]
  },
  {
   "cell_type": "code",
   "execution_count": 3,
   "metadata": {
    "id": "5oDw_d_XEExr"
   },
   "outputs": [],
   "source": [
    "edge = np.zeros((10,8))\n",
    "for i in range(10):\n",
    "  for j in range(8):\n",
    "    edge[i][j] = data_array[i+2][j+3]"
   ]
  },
  {
   "cell_type": "markdown",
   "metadata": {},
   "source": [
    "We load the distances gathered in data collection phase via the code below:"
   ]
  },
  {
   "cell_type": "code",
   "execution_count": 4,
   "metadata": {
    "id": "0AIZK-IkF6wT"
   },
   "outputs": [],
   "source": [
    "dist = np.zeros((10,8))\n",
    "for i in range(10):\n",
    "  for j in range(8):\n",
    "    dist[i][j] = data_array[i+2][j+11]"
   ]
  },
  {
   "cell_type": "markdown",
   "metadata": {},
   "source": [
    "The threshold for the source output is read via this code:"
   ]
  },
  {
   "cell_type": "code",
   "execution_count": 5,
   "metadata": {
    "id": "S8S8xm_UhWJy"
   },
   "outputs": [],
   "source": [
    "sthershold = np.zeros((1,8))\n",
    "for i in range(14,22):\n",
    "  sthershold[0][i-14] = float(data_array[i][3]) "
   ]
  },
  {
   "cell_type": "markdown",
   "metadata": {},
   "source": [
    "Here, we define the amount of electrical power need that should be fulfilled for each city:"
   ]
  },
  {
   "cell_type": "code",
   "execution_count": 6,
   "metadata": {
    "id": "uLnU42xhkBOw"
   },
   "outputs": [],
   "source": [
    "dthershold = np.zeros((1,10))\n",
    "for i in range(1,11):\n",
    "  dthershold[0][i-1] = float(data_array[i][19])"
   ]
  },
  {
   "cell_type": "markdown",
   "metadata": {},
   "source": [
    "We just remove some bugs in our data (turning NANs into zeros):"
   ]
  },
  {
   "cell_type": "code",
   "execution_count": 7,
   "metadata": {
    "id": "HhuPVNuMfoBv"
   },
   "outputs": [],
   "source": [
    "for i in range(10):\n",
    "  for j in range(8):\n",
    "    if math.isnan(dist[i][j]):\n",
    "      dist[i][j] = 0"
   ]
  },
  {
   "cell_type": "markdown",
   "metadata": {},
   "source": [
    "## Part 2 - Defining the Problem:"
   ]
  },
  {
   "cell_type": "markdown",
   "metadata": {},
   "source": [
    "### 2.1. The Problem Itself\n",
    "Defining our problem as a minimization problem:"
   ]
  },
  {
   "cell_type": "code",
   "execution_count": 8,
   "metadata": {
    "colab": {
     "base_uri": "https://localhost:8080/"
    },
    "id": "n-pmc7_LUpcc",
    "outputId": "6ba3b4f7-c0ab-4cda-8fcf-c61665ab6436"
   },
   "outputs": [],
   "source": [
    "Lp_prob = p.LpProblem('Problem', p.LpMinimize)"
   ]
  },
  {
   "cell_type": "markdown",
   "metadata": {},
   "source": [
    "### 2.2. Variables\n",
    "Defining variables $x_{ij}$, $S_i$, and $D_j$ for our problem:"
   ]
  },
  {
   "cell_type": "code",
   "execution_count": 9,
   "metadata": {},
   "outputs": [],
   "source": [
    "for i in range(1,11):\n",
    "  for j in range(1,9):\n",
    "    globals()[\"x{}{}\".format(i,j)] = p.LpVariable(\"x{}{}\".format(i,j), 0, None, p.LpContinuous)\n",
    "\n",
    "for i in range(1,9):\n",
    "  globals()[\"S{}\".format(i)] = p.LpVariable(\"S{}\".format(i), 0, None, p.LpContinuous)\n",
    "\n",
    "for i in range(1,11):\n",
    "  globals()[\"D{}\".format(i)] = p.LpVariable(\"D{}\".format(i), 0, None, p.LpContinuous)"
   ]
  },
  {
   "cell_type": "markdown",
   "metadata": {},
   "source": [
    "### 2.3. Objective\n",
    "Defining the objective as the multiplication result of each $x_{ij}$ in each $c_{ij}$ which is recieved from the total distance between source $i$ and demand $j$:"
   ]
  },
  {
   "cell_type": "code",
   "execution_count": 10,
   "metadata": {},
   "outputs": [],
   "source": [
    "sumJ = None\n",
    "\n",
    "for i in range(10):\n",
    "  for j in range(8):\n",
    "    sumJ += globals()[\"x{}{}\".format(i+1,j+1)]*np.multiply(edge,dist)[i][j]\n",
    "\n",
    "Lp_prob += sumJ"
   ]
  },
  {
   "cell_type": "markdown",
   "metadata": {},
   "source": [
    "### 2.4. Constraints"
   ]
  },
  {
   "cell_type": "markdown",
   "metadata": {},
   "source": [
    "First, we should pay attention to the fact that the sum of all $x_{ij}$ for a specific $i$ gives the output power for source $S_i$:"
   ]
  },
  {
   "cell_type": "code",
   "execution_count": 11,
   "metadata": {},
   "outputs": [],
   "source": [
    "sumS = None\n",
    "\n",
    "for i in range(8):\n",
    "    \n",
    "  sumx = None\n",
    "\n",
    "  for j in range(10):\n",
    "    sumx += globals()[\"x{}{}\".format(j+1,i+1)]*edge[j][i]\n",
    "    \n",
    "  Lp_prob += (globals()[\"S{}\".format(i+1)] == sumx)"
   ]
  },
  {
   "cell_type": "markdown",
   "metadata": {},
   "source": [
    "Also, sum of all $x_{ij}$ for a specific $j$ should hand over the input power for demanding city $D_j$:"
   ]
  },
  {
   "cell_type": "code",
   "execution_count": 12,
   "metadata": {},
   "outputs": [],
   "source": [
    "sumD = None\n",
    "\n",
    "for i in range(9):\n",
    "    \n",
    "  sumx = None\n",
    "\n",
    "  for j in range(8):\n",
    "    sumx += globals()[\"x{}{}\".format(i+1,j+1)]*edge[i][j]\n",
    "    \n",
    "  Lp_prob += (globals()[\"D{}\".format(i+1)] == sumx)"
   ]
  },
  {
   "cell_type": "markdown",
   "metadata": {},
   "source": [
    "The underlying constraint is the fact that sum of all outputs should be equal to the sum of all inputs:"
   ]
  },
  {
   "cell_type": "code",
   "execution_count": 13,
   "metadata": {},
   "outputs": [],
   "source": [
    "for i in range(8):\n",
    "  sumS += globals()[\"S{}\".format(i+1)]\n",
    "\n",
    "for i in range(10):\n",
    "  sumD += globals()[\"D{}\".format(i+1)]\n",
    "\n",
    "Lp_prob += (sumS == sumD)"
   ]
  },
  {
   "cell_type": "markdown",
   "metadata": {},
   "source": [
    "Also, we should implement the fact that each powerplant has a maximum power that it can generate, and each city should at least get the average net used power from the sum of all of its inputs:"
   ]
  },
  {
   "cell_type": "code",
   "execution_count": 14,
   "metadata": {},
   "outputs": [],
   "source": [
    "for i in range(8):\n",
    "  Lp_prob += globals()[\"S{}\".format(i+1)] <= sthershold[0][i]\n",
    "\n",
    "for i in range(10):\n",
    "  Lp_prob += globals()[\"D{}\".format(i+1)] >= dthershold[0][i]"
   ]
  },
  {
   "cell_type": "markdown",
   "metadata": {},
   "source": [
    "## Part 3 - Testing the Fomulation and the Program"
   ]
  },
  {
   "cell_type": "markdown",
   "metadata": {},
   "source": [
    "Having our problem defined, all we need to do is to run the program:"
   ]
  },
  {
   "cell_type": "code",
   "execution_count": 15,
   "metadata": {},
   "outputs": [
    {
     "name": "stdout",
     "output_type": "stream",
     "text": [
      "Problem:\n",
      "MINIMIZE\n",
      "55.16*x104 + 141.69*x11 + 236.24*x15 + 125.17*x21 + 32.31*x31 + 70.67*x41 + 207.61*x51 + 156.55*x54 + 3.97*x62 + 13.31*x66 + 317.19*x72 + 19.69*x73 + 44.23*x77 + 66.51*x81 + 25.83*x93 + 22.95*x98 + 0.0\n",
      "SUBJECT TO\n",
      "_C1: S1 - x11 - x21 - x31 - x41 - x51 - x81 = 0\n",
      "\n",
      "_C2: S2 - x62 - x72 = 0\n",
      "\n",
      "_C3: S3 - x73 - x93 = 0\n",
      "\n",
      "_C4: S4 - x104 - x54 = 0\n",
      "\n",
      "_C5: S5 - x15 = 0\n",
      "\n",
      "_C6: S6 - x66 = 0\n",
      "\n",
      "_C7: S7 - x77 = 0\n",
      "\n",
      "_C8: S8 - x98 = 0\n",
      "\n",
      "_C9: D1 - x11 - x15 = 0\n",
      "\n",
      "_C10: D2 - x21 = 0\n",
      "\n",
      "_C11: D3 - x31 = 0\n",
      "\n",
      "_C12: D4 - x41 = 0\n",
      "\n",
      "_C13: D5 - x51 - x54 = 0\n",
      "\n",
      "_C14: D6 - x62 - x66 = 0\n",
      "\n",
      "_C15: D7 - x72 - x73 - x77 = 0\n",
      "\n",
      "_C16: D8 - x81 = 0\n",
      "\n",
      "_C17: D9 - x93 - x98 = 0\n",
      "\n",
      "_C18: - D1 - D10 - D2 - D3 - D4 - D5 - D6 - D7 - D8 - D9 + S1 + S2 + S3 + S4\n",
      " + S5 + S6 + S7 + S8 = 0\n",
      "\n",
      "_C19: S1 <= 2365200000\n",
      "\n",
      "_C20: S2 <= 3153600000\n",
      "\n",
      "_C21: S3 <= 21759840000\n",
      "\n",
      "_C22: S4 <= 4730400000\n",
      "\n",
      "_C23: S5 <= 9460800000\n",
      "\n",
      "_C24: S6 <= 4730400000\n",
      "\n",
      "_C25: S7 <= 1504267200\n",
      "\n",
      "_C26: S8 <= 3784320000\n",
      "\n",
      "_C27: D1 >= 1129556342.88\n",
      "\n",
      "_C28: D2 >= 318863386.8\n",
      "\n",
      "_C29: D3 >= 2326096936.8\n",
      "\n",
      "_C30: D4 >= 209211085.44\n",
      "\n",
      "_C31: D5 >= 161955072.72\n",
      "\n",
      "_C32: D6 >= 1514027592\n",
      "\n",
      "_C33: D7 >= 60164703728.6\n",
      "\n",
      "_C34: D8 >= 310146258.24\n",
      "\n",
      "_C35: D9 >= 5539047005.52\n",
      "\n",
      "_C36: D10 >= 410622634.8\n",
      "\n",
      "VARIABLES\n",
      "D1 Continuous\n",
      "D10 Continuous\n",
      "D2 Continuous\n",
      "D3 Continuous\n",
      "D4 Continuous\n",
      "D5 Continuous\n",
      "D6 Continuous\n",
      "D7 Continuous\n",
      "D8 Continuous\n",
      "D9 Continuous\n",
      "S1 Continuous\n",
      "S2 Continuous\n",
      "S3 Continuous\n",
      "S4 Continuous\n",
      "S5 Continuous\n",
      "S6 Continuous\n",
      "S7 Continuous\n",
      "S8 Continuous\n",
      "x104 Continuous\n",
      "x11 Continuous\n",
      "x15 Continuous\n",
      "x21 Continuous\n",
      "x31 Continuous\n",
      "x41 Continuous\n",
      "x51 Continuous\n",
      "x54 Continuous\n",
      "x62 Continuous\n",
      "x66 Continuous\n",
      "x72 Continuous\n",
      "x73 Continuous\n",
      "x77 Continuous\n",
      "x81 Continuous\n",
      "x93 Continuous\n",
      "x98 Continuous\n",
      "\n",
      "Infeasible\n",
      "D1 = 0.0\n",
      "D10 = 0.0\n",
      "D2 = 0.0\n",
      "D3 = 0.0\n",
      "D4 = 0.0\n",
      "D5 = 0.0\n",
      "D6 = 0.0\n",
      "D7 = 60164704000.0\n",
      "D8 = 0.0\n",
      "D9 = 0.0\n",
      "S1 = 0.0\n",
      "S2 = 3153600000.0\n",
      "S3 = 21759840000.0\n",
      "S4 = 33746997000.0\n",
      "S5 = 0.0\n",
      "S6 = 0.0\n",
      "S7 = 1504267200.0\n",
      "S8 = 0.0\n",
      "x104 = 0.0\n",
      "x11 = 0.0\n",
      "x15 = 0.0\n",
      "x21 = 0.0\n",
      "x31 = 0.0\n",
      "x41 = 0.0\n",
      "x51 = 0.0\n",
      "x54 = 0.0\n",
      "x62 = 0.0\n",
      "x66 = 0.0\n",
      "x72 = 36900597000.0\n",
      "x73 = 21759840000.0\n",
      "x77 = 1504267200.0\n",
      "x81 = 0.0\n",
      "x93 = 0.0\n",
      "x98 = 0.0\n",
      "Joptimal = 12199485350286.0\n"
     ]
    }
   ],
   "source": [
    "print(Lp_prob)   \n",
    "status = Lp_prob.solve()   # Solver \n",
    "print(p.LpStatus[status])   # The solution status \n",
    "# Printing the final solution \n",
    "for x in Lp_prob.variables():\n",
    "    print(x.name, \"=\", x.varValue)\n",
    "print('Joptimal = ' + str(p.value(Lp_prob.objective))) "
   ]
  },
  {
   "cell_type": "markdown",
   "metadata": {},
   "source": [
    "For better visualization, we can draw the table which shows how much power each city gets from each powerplant:"
   ]
  },
  {
   "cell_type": "code",
   "execution_count": 17,
   "metadata": {
    "colab": {
     "base_uri": "https://localhost:8080/"
    },
    "id": "5uYnW8X8pyqZ",
    "outputId": "7c0b51d5-4bf0-4777-e8b0-48c02e632a33"
   },
   "outputs": [
    {
     "name": "stdout",
     "output_type": "stream",
     "text": [
      "0.0\n",
      "nan\n",
      "nan\n",
      "nan\n",
      "0.0\n",
      "nan\n",
      "nan\n",
      "nan\n",
      "0.0\n",
      "nan\n",
      "nan\n",
      "nan\n",
      "nan\n",
      "nan\n",
      "nan\n",
      "nan\n",
      "0.0\n",
      "nan\n",
      "nan\n",
      "nan\n",
      "nan\n",
      "nan\n",
      "nan\n",
      "nan\n",
      "0.0\n",
      "nan\n",
      "nan\n",
      "nan\n",
      "nan\n",
      "nan\n",
      "nan\n",
      "nan\n",
      "0.0\n",
      "nan\n",
      "nan\n",
      "0.0\n",
      "nan\n",
      "nan\n",
      "nan\n",
      "nan\n",
      "nan\n",
      "0.0\n",
      "nan\n",
      "nan\n",
      "nan\n",
      "0.0\n",
      "nan\n",
      "nan\n",
      "nan\n",
      "36900597000.0\n",
      "21759840000.0\n",
      "nan\n",
      "nan\n",
      "nan\n",
      "1504267200.0\n",
      "nan\n",
      "0.0\n",
      "nan\n",
      "nan\n",
      "nan\n",
      "nan\n",
      "nan\n",
      "nan\n",
      "nan\n",
      "nan\n",
      "nan\n",
      "0.0\n",
      "nan\n",
      "nan\n",
      "nan\n",
      "nan\n",
      "0.0\n",
      "nan\n",
      "nan\n",
      "nan\n",
      "0.0\n",
      "nan\n",
      "nan\n",
      "nan\n",
      "nan\n",
      "[[0.0000000e+00           nan           nan           nan 0.0000000e+00\n",
      "            nan           nan           nan]\n",
      " [0.0000000e+00           nan           nan           nan           nan\n",
      "            nan           nan           nan]\n",
      " [0.0000000e+00           nan           nan           nan           nan\n",
      "            nan           nan           nan]\n",
      " [0.0000000e+00           nan           nan           nan           nan\n",
      "            nan           nan           nan]\n",
      " [0.0000000e+00           nan           nan 0.0000000e+00           nan\n",
      "            nan           nan           nan]\n",
      " [          nan 0.0000000e+00           nan           nan           nan\n",
      "  0.0000000e+00           nan           nan]\n",
      " [          nan 3.6900597e+10 2.1759840e+10           nan           nan\n",
      "            nan 1.5042672e+09           nan]\n",
      " [0.0000000e+00           nan           nan           nan           nan\n",
      "            nan           nan           nan]\n",
      " [          nan           nan 0.0000000e+00           nan           nan\n",
      "            nan           nan 0.0000000e+00]\n",
      " [          nan           nan           nan 0.0000000e+00           nan\n",
      "            nan           nan           nan]]\n"
     ]
    }
   ],
   "source": [
    "result = np.zeros((10,8))\n",
    "for i in range(10):\n",
    "    for j in range(8):\n",
    "        result[i][j] = globals()[\"x{}{}\".format(i+1,j+1)].varValue\n",
    "        print(result[i][j])\n",
    "print(result)"
   ]
  }
 ],
 "metadata": {
  "colab": {
   "collapsed_sections": [],
   "name": "project.ipynb",
   "provenance": []
  },
  "kernelspec": {
   "display_name": "Python 3",
   "language": "python",
   "name": "python3"
  },
  "language_info": {
   "codemirror_mode": {
    "name": "ipython",
    "version": 3
   },
   "file_extension": ".py",
   "mimetype": "text/x-python",
   "name": "python",
   "nbconvert_exporter": "python",
   "pygments_lexer": "ipython3",
   "version": "3.8.5"
  }
 },
 "nbformat": 4,
 "nbformat_minor": 1
}
